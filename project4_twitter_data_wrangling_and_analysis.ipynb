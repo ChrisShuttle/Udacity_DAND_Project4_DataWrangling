{
 "cells": [
  {
   "cell_type": "markdown",
   "metadata": {},
   "source": [
    "## Wrangle, assess, clean and analyse twitter data - WeRateDogs\n",
    "\n",
    "\n",
    "\n",
    "## Table of Contents\n",
    "- [Introduction](#intro)\n",
    "- [Part I - Data wrangling](#wrangling)\n",
    "    - [Twitter Archive - load csv file](#load_csv)\n",
    "    - [Twitter API - access and load data via Twitter API access](#twitter_api)\n",
    "    - [Download and ingest neural network predictor data using requests](#requests)\n",
    "- [Part II - Assess data](#assess)\n",
    "    - [Visual assessment: data overview](#visual)\n",
    "    - [Programmatic assessment:](#programmatic)\n",
    "        - [Data structure:](#structure)\n",
    "        - [Data quality:](#structure)\n",
    "    - [Summary list of data issues:](#summary_issues)\n",
    "        - [Tidyness issues:](#tidyness)\n",
    "        - [Cleanliness issues:](#cleanliness)\n",
    "- [Part III - Clean data](#clean)\n",
    "    - [Define issue: x](#def1)\n",
    "    - [Code issue: x](#code1)\n",
    "    - [Test issue: x](#test1)\n",
    "    - [Define issue: x](#def2)\n",
    "    - [Code issue: x](#code2)\n",
    "    - [Test issue: x](#test2)\n",
    "    - [Define issue: x](#def3)\n",
    "    - [Code issue: x](#code3)\n",
    "    - [Test issue: x](#test3)\n",
    "    - [Define issue: x](#def4)\n",
    "    - [Code issue: x](#code4)\n",
    "    - [Test issue: x](#test4)\n",
    "- [Part IV - Analyse data](#clean)\n",
    "    - [Insight 1: x](#insight1) Which type of dog is rated the most often and the highest?\n",
    "    - [Insight 2: x](#insight2)\n",
    "    - [Insight 3: x](#insight3)\n",
    "\n",
    "\n",
    "\n",
    "\n",
    "\n",
    "<a id='intro'></a>\n",
    "### Introduction \n",
    "\n",
    "For this report, I wrangled WeRateDogs Twitter data to create interesting and trustworthy data insights and visualizations of the dog rating twitter feed. \n",
    "\n",
    "The twitter data will be enhanced with information of likely breed of the dog being rated, based on images available in the tweets. This data originates from a neural network image prediction data set of types of dogs.\n",
    "\n",
    "To achieve this, I createe a solid and clean master dataset. Possible questions to ask:\n",
    "- Which dog type is being rated the most often and the hightest?\n",
    "\n",
    "Based on the analysis I created two reports:\n",
    "\n",
    "    wrangle_report.pdf - summary of my wrangling effort\n",
    "    act_report.pdf - insights and visualisation of the findings as a magazine article or blog post\n",
    "\n",
    "<a id='wrangling'></a>\n",
    "### Part 1 - Data wrangling"
   ]
  },
  {
   "cell_type": "code",
   "execution_count": null,
   "metadata": {},
   "outputs": [],
   "source": []
  }
 ],
 "metadata": {
  "kernelspec": {
   "display_name": "Python [conda env:tsa_course] *",
   "language": "python",
   "name": "conda-env-tsa_course-py"
  },
  "language_info": {
   "codemirror_mode": {
    "name": "ipython",
    "version": 3
   },
   "file_extension": ".py",
   "mimetype": "text/x-python",
   "name": "python",
   "nbconvert_exporter": "python",
   "pygments_lexer": "ipython3",
   "version": "3.7.2"
  }
 },
 "nbformat": 4,
 "nbformat_minor": 4
}
